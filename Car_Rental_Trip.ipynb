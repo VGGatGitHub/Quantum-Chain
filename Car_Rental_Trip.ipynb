{
  "nbformat": 4,
  "nbformat_minor": 0,
  "metadata": {
    "anaconda-cloud": {},
    "colab": {
      "name": "Car Rental Trip.ipynb",
      "provenance": [],
      "collapsed_sections": [
        "QBUsHZZNXwlr"
      ],
      "include_colab_link": true
    },
    "kernelspec": {
      "display_name": "Python 3",
      "language": "python",
      "name": "python3"
    },
    "language_info": {
      "codemirror_mode": {
        "name": "ipython",
        "version": 3
      },
      "file_extension": ".py",
      "mimetype": "text/x-python",
      "name": "python",
      "nbconvert_exporter": "python",
      "pygments_lexer": "ipython3",
      "version": "3.7.6"
    },
    "papermill": {
      "duration": 14348.105008,
      "end_time": "2020-03-12T07:55:21.779384",
      "environment_variables": {},
      "exception": null,
      "input_path": "max_cut_only_15q.ipynb",
      "output_path": "max_cut_only_15q-background-results.ipynb",
      "parameters": {},
      "start_time": "2020-03-12T03:56:13.674376",
      "version": "2.0.0"
    },
    "varInspector": {
      "cols": {
        "lenName": 16,
        "lenType": 16,
        "lenVar": 40
      },
      "kernels_config": {
        "python": {
          "delete_cmd_postfix": "",
          "delete_cmd_prefix": "del ",
          "library": "var_list.py",
          "varRefreshCmd": "print(var_dic_list())"
        },
        "r": {
          "delete_cmd_postfix": ") ",
          "delete_cmd_prefix": "rm(",
          "library": "var_list.r",
          "varRefreshCmd": "cat(var_dic_list()) "
        }
      },
      "types_to_exclude": [
        "module",
        "function",
        "builtin_function_or_method",
        "instance",
        "_Feature"
      ],
      "window_display": false
    }
  },
  "cells": [
    {
      "cell_type": "markdown",
      "metadata": {
        "id": "view-in-github",
        "colab_type": "text"
      },
      "source": [
        "<a href=\"https://colab.research.google.com/github/hay-k/CohortProject_2020_w4g4/blob/master/Project_4_Ising_Annealer/Car_Rental_Trip.ipynb\" target=\"_parent\"><img src=\"https://colab.research.google.com/assets/colab-badge.svg\" alt=\"Open In Colab\"/></a>"
      ]
    },
    {
      "cell_type": "code",
      "metadata": {
        "id": "fzQQSYwBfDCg",
        "colab_type": "code",
        "colab": {}
      },
      "source": [
        "#Note you need to do the pip install and git clone only once!\n",
        "#That is, at the begining of your runtime on the Google Colab."
      ],
      "execution_count": null,
      "outputs": []
    },
    {
      "cell_type": "markdown",
      "metadata": {
        "id": "dXoBuI8Raql2",
        "colab_type": "text"
      },
      "source": [
        "#Car Rental Schedule\n",
        "based on the annealing for the Travelling Salesman Problem\n",
        "https://github.com/perrygeo/simanneal"
      ]
    },
    {
      "cell_type": "markdown",
      "metadata": {
        "id": "QBUsHZZNXwlr",
        "colab_type": "text"
      },
      "source": [
        "## Preamble - set up the repo and dependences"
      ]
    },
    {
      "cell_type": "code",
      "metadata": {
        "id": "42ZF4-e9ciZ9",
        "colab_type": "code",
        "colab": {
          "base_uri": "https://localhost:8080/",
          "height": 136
        },
        "outputId": "a5223092-e4d4-4bb7-f4f6-6e272f194645"
      },
      "source": [
        " #!git clone https://github.com/perrygeo/simanneal.git"
      ],
      "execution_count": 9,
      "outputs": [
        {
          "output_type": "stream",
          "text": [
            "Cloning into 'simanneal'...\n",
            "remote: Enumerating objects: 37, done.\u001b[K\n",
            "remote: Counting objects: 100% (37/37), done.\u001b[K\n",
            "remote: Compressing objects: 100% (29/29), done.\u001b[K\n",
            "remote: Total 312 (delta 15), reused 23 (delta 8), pack-reused 275\u001b[K\n",
            "Receiving objects: 100% (312/312), 819.28 KiB | 15.46 MiB/s, done.\n",
            "Resolving deltas: 100% (135/135), done.\n"
          ],
          "name": "stdout"
        }
      ]
    },
    {
      "cell_type": "code",
      "metadata": {
        "id": "BryE2khLdDvT",
        "colab_type": "code",
        "colab": {
          "base_uri": "https://localhost:8080/",
          "height": 85
        },
        "outputId": "76b1fa07-3239-4d99-e4e7-efa2fb1b638d"
      },
      "source": [
        "#!cd ./simanneal/ && pip install -e ."
      ],
      "execution_count": 10,
      "outputs": [
        {
          "output_type": "stream",
          "text": [
            "Obtaining file:///content/simanneal\n",
            "Installing collected packages: simanneal\n",
            "  Running setup.py develop for simanneal\n",
            "Successfully installed simanneal\n"
          ],
          "name": "stdout"
        }
      ]
    },
    {
      "cell_type": "code",
      "metadata": {
        "id": "KsqCUKLMa1QA",
        "colab_type": "code",
        "colab": {
          "base_uri": "https://localhost:8080/",
          "height": 187
        },
        "outputId": "9d2d81a8-14be-4606-f6ff-a8c8f04d8a01"
      },
      "source": [
        "#pip install -e git+https://github.com/perrygeo/simanneal.git  # latest from github\n",
        "#!pip install simanneal  # from pypi\n",
        "\n",
        "!pip show simanneal  # from pypi\n",
        "\n",
        "#you may have to restart you runtime after instalatins are compleat!"
      ],
      "execution_count": 1,
      "outputs": [
        {
          "output_type": "stream",
          "text": [
            "Name: simanneal\n",
            "Version: 0.5.0\n",
            "Summary: Simulated Annealing in Python\n",
            "Home-page: https://github.com/perrygeo/simanneal\n",
            "Author: Matthew Perry\n",
            "Author-email: perrygeo@gmail.com\n",
            "License: BSD\n",
            "Location: /content/simanneal\n",
            "Requires: \n",
            "Required-by: \n"
          ],
          "name": "stdout"
        }
      ]
    },
    {
      "cell_type": "code",
      "metadata": {
        "id": "EDKD8CogcyD0",
        "colab_type": "code",
        "colab": {}
      },
      "source": [
        "import sys\n",
        "f_loc=\"./simanneal/tests/\"\n",
        "if f_loc not in sys.path: sys.path.append(f_loc)"
      ],
      "execution_count": 2,
      "outputs": []
    },
    {
      "cell_type": "code",
      "metadata": {
        "id": "S2-JtBP2cEsY",
        "colab_type": "code",
        "colab": {}
      },
      "source": [
        "import random\n",
        "import sys\n",
        "import time\n",
        "\n",
        "from helper import distance, cities, distance_matrix\n",
        "from simanneal import Annealer\n",
        "\n",
        "if sys.version_info.major >= 3:  # pragma: no cover\n",
        "    from io import StringIO\n",
        "else:\n",
        "    from StringIO import StringIO"
      ],
      "execution_count": 3,
      "outputs": []
    },
    {
      "cell_type": "markdown",
      "metadata": {
        "id": "i8OllGCNYJ-B",
        "colab_type": "text"
      },
      "source": [
        "##Define the Annealer functoins and test them"
      ]
    },
    {
      "cell_type": "code",
      "metadata": {
        "id": "p4VuqzfnbOqD",
        "colab_type": "code",
        "colab": {
          "base_uri": "https://localhost:8080/",
          "height": 190
        },
        "outputId": "d2dc4f49-4241-4624-d261-2789cf1f6676"
      },
      "source": [
        "%%time\n",
        "#see ./simanneal/examples/salesman.py\n",
        "# -*- coding: utf-8 -*-\n",
        "from __future__ import print_function\n",
        "import math\n",
        "import random\n",
        "from simanneal import Annealer\n",
        "\n",
        "\n",
        "def distance(a, b):\n",
        "    \"\"\"Calculates distance between two latitude-longitude coordinates.\"\"\"\n",
        "    R = 3963  # radius of Earth (miles)\n",
        "    lat1, lon1 = math.radians(a[0]), math.radians(a[1])\n",
        "    lat2, lon2 = math.radians(b[0]), math.radians(b[1])\n",
        "    return math.acos(math.sin(lat1) * math.sin(lat2) +\n",
        "                     math.cos(lat1) * math.cos(lat2) * math.cos(lon1 - lon2)) * R\n",
        "\n",
        "\n",
        "class TravellingSalesmanProblem(Annealer):\n",
        "\n",
        "    \"\"\"Test annealer with a travelling salesman problem.\n",
        "    \"\"\"\n",
        "\n",
        "    # pass extra data (the distance matrix) into the constructor\n",
        "    def __init__(self, state, distance_matrix):\n",
        "        self.distance_matrix = distance_matrix\n",
        "        super(TravellingSalesmanProblem, self).__init__(state)  # important!\n",
        "\n",
        "    def move(self):\n",
        "        \"\"\"Swaps two cities in the route.\"\"\"\n",
        "        # no efficiency gain, just proof of concept\n",
        "        # demonstrates returning the delta energy (optional)\n",
        "        initial_energy = self.energy()\n",
        "\n",
        "        a = random.randint(0, len(self.state) - 1)\n",
        "        b = random.randint(0, len(self.state) - 1)\n",
        "        self.state[a], self.state[b] = self.state[b], self.state[a]\n",
        "\n",
        "        return self.energy() - initial_energy\n",
        "\n",
        "    def energy(self):\n",
        "        \"\"\"Calculates the length of the route.\"\"\"\n",
        "        e = 0\n",
        "        for i in range(len(self.state)):\n",
        "            e += self.distance_matrix[self.state[i-1]][self.state[i]]\n",
        "        return e\n",
        "\n",
        "\n",
        "if __name__ == '__main__':\n",
        "\n",
        "    # latitude and longitude for the twenty largest U.S. cities\n",
        "    cities = {\n",
        "        'New York City': (40.72, 74.00),\n",
        "        'Los Angeles': (34.05, 118.25),\n",
        "        'Chicago': (41.88, 87.63),\n",
        "        'Houston': (29.77, 95.38),\n",
        "        'Phoenix': (33.45, 112.07),\n",
        "        'Philadelphia': (39.95, 75.17),\n",
        "        'San Antonio': (29.53, 98.47),\n",
        "        'Dallas': (32.78, 96.80),\n",
        "        'San Diego': (32.78, 117.15),\n",
        "        'San Jose': (37.30, 121.87),\n",
        "        'Detroit': (42.33, 83.05),\n",
        "        'San Francisco': (37.78, 122.42),\n",
        "        'Jacksonville': (30.32, 81.70),\n",
        "        'Indianapolis': (39.78, 86.15),\n",
        "        'Austin': (30.27, 97.77),\n",
        "        'Columbus': (39.98, 82.98),\n",
        "        'Fort Worth': (32.75, 97.33),\n",
        "        'Charlotte': (35.23, 80.85),\n",
        "        'Memphis': (35.12, 89.97),\n",
        "        'Baltimore': (39.28, 76.62)\n",
        "    }\n",
        "\n",
        "    # initial state, a randomly-ordered itinerary\n",
        "    init_state = list(cities.keys())\n",
        "    random.shuffle(init_state)\n",
        "\n",
        "    # create a distance matrix\n",
        "    distance_matrix = {}\n",
        "    for ka, va in cities.items():\n",
        "        distance_matrix[ka] = {}\n",
        "        for kb, vb in cities.items():\n",
        "            if kb == ka:\n",
        "                distance_matrix[ka][kb] = 0.0\n",
        "            else:\n",
        "                distance_matrix[ka][kb] = distance(va, vb)\n",
        "\n",
        "    tsp = TravellingSalesmanProblem(init_state, distance_matrix)\n",
        "    tsp.set_schedule(tsp.auto(minutes=0.2))\n",
        "    # since our state is just a list, slice is the fastest way to copy\n",
        "    tsp.copy_strategy = \"slice\"\n",
        "    state, e = tsp.anneal()\n",
        "\n",
        "    while state[0] != 'New York City':\n",
        "        state = state[1:] + state[:1]  # rotate NYC to start\n",
        "\n",
        "    print()\n",
        "    print(\"%i mile route:\" % e)\n",
        "    print(\" ➞  \".join(state))\n"
      ],
      "execution_count": 4,
      "outputs": [
        {
          "output_type": "stream",
          "text": [
            "\n",
            " Temperature        Energy    Accept   Improve     Elapsed   Remaining\n",
            "     3.30000       7178.67     4.50%     0.00%     0:00:02     0:00:00\n",
            " Temperature        Energy    Accept   Improve     Elapsed   Remaining\n",
            "     3.30000       6883.00     4.75%     0.07%     0:00:06     0:00:00"
          ],
          "name": "stderr"
        },
        {
          "output_type": "stream",
          "text": [
            "\n",
            "6845 mile route:\n",
            "New York City ➞  Philadelphia ➞  Baltimore ➞  Charlotte ➞  Jacksonville ➞  Houston ➞  Austin ➞  San Antonio ➞  Phoenix ➞  San Diego ➞  Los Angeles ➞  San Jose ➞  San Francisco ➞  Fort Worth ➞  Dallas ➞  Memphis ➞  Indianapolis ➞  Chicago ➞  Detroit ➞  Columbus\n",
            "CPU times: user 8.04 s, sys: 26.7 ms, total: 8.07 s\n",
            "Wall time: 8.06 s\n"
          ],
          "name": "stdout"
        }
      ]
    },
    {
      "cell_type": "code",
      "metadata": {
        "id": "shXu4MOvpxoR",
        "colab_type": "code",
        "colab": {
          "base_uri": "https://localhost:8080/",
          "height": 357
        },
        "outputId": "915b83c7-ceb2-4259-ef39-42fa8cc8ccb1"
      },
      "source": [
        "cities"
      ],
      "execution_count": 5,
      "outputs": [
        {
          "output_type": "execute_result",
          "data": {
            "text/plain": [
              "{'Austin': (30.27, 97.77),\n",
              " 'Baltimore': (39.28, 76.62),\n",
              " 'Charlotte': (35.23, 80.85),\n",
              " 'Chicago': (41.88, 87.63),\n",
              " 'Columbus': (39.98, 82.98),\n",
              " 'Dallas': (32.78, 96.8),\n",
              " 'Detroit': (42.33, 83.05),\n",
              " 'Fort Worth': (32.75, 97.33),\n",
              " 'Houston': (29.77, 95.38),\n",
              " 'Indianapolis': (39.78, 86.15),\n",
              " 'Jacksonville': (30.32, 81.7),\n",
              " 'Los Angeles': (34.05, 118.25),\n",
              " 'Memphis': (35.12, 89.97),\n",
              " 'New York City': (40.72, 74.0),\n",
              " 'Philadelphia': (39.95, 75.17),\n",
              " 'Phoenix': (33.45, 112.07),\n",
              " 'San Antonio': (29.53, 98.47),\n",
              " 'San Diego': (32.78, 117.15),\n",
              " 'San Francisco': (37.78, 122.42),\n",
              " 'San Jose': (37.3, 121.87)}"
            ]
          },
          "metadata": {
            "tags": []
          },
          "execution_count": 5
        }
      ]
    },
    {
      "cell_type": "code",
      "metadata": {
        "id": "FFXRoFW4bivu",
        "colab_type": "code",
        "colab": {}
      },
      "source": [
        "def make_itinerary(current_location,initial_state):\n",
        "\n",
        "  if current_location not in initial_state:\n",
        "    initial_state.append(current_location) \n",
        "    print(\"\\nAdding your current location to the initial list!\")\n",
        "\n",
        "  # populate your cities list with coordinate information\n",
        "  my_cities={}\n",
        "  for city in initial_state:\n",
        "    if city in cities.keys():\n",
        "      my_cities[city]=cities[city]\n",
        "    else:\n",
        "      print(\"No location coordinates for \",city)\n",
        "      if city==current_location:\n",
        "        print(\"Add your location coordinates!\")\n",
        "        return\n",
        "  \n",
        "  # initial state, a randomly-ordered itinerary\n",
        "  init_state = initial_state\n",
        "  random.shuffle(init_state)\n",
        "\n",
        "  # create a distance matrix\n",
        "  distance_matrix = {}\n",
        "  for ka, va in my_cities.items():\n",
        "      distance_matrix[ka] = {}\n",
        "      for kb, vb in my_cities.items():\n",
        "          if kb == ka:\n",
        "              distance_matrix[ka][kb] = 0.0\n",
        "          else:\n",
        "              distance_matrix[ka][kb] = distance(va, vb)\n",
        "\n",
        "  tsp = TravellingSalesmanProblem(init_state, distance_matrix)\n",
        "  '''\n",
        "  tsp.set_schedule(tsp.auto(minutes=0.2))\n",
        "  # since our state is just a list, slice is the fastest way to copy\n",
        "  tsp.copy_strategy = \"slice\"\n",
        "  '''\n",
        "  itinerary, miles = tsp.anneal()\n",
        "\n",
        "  while itinerary[0] != current_location:\n",
        "      itinerary = itinerary[1:] + itinerary[:1]  # rotate to start correctly\n",
        "\n",
        "  print()\n",
        "  print(\"%i mile route:\" % miles)\n",
        "  print(\" ➞  \".join(itinerary))\n",
        "  return itinerary, miles\n"
      ],
      "execution_count": 146,
      "outputs": []
    },
    {
      "cell_type": "markdown",
      "metadata": {
        "id": "s_PSiZAyYY-t",
        "colab_type": "text"
      },
      "source": [
        "##Define a map ploting function"
      ]
    },
    {
      "cell_type": "code",
      "metadata": {
        "id": "ijF3UjYRz0NO",
        "colab_type": "code",
        "colab": {
          "base_uri": "https://localhost:8080/",
          "height": 187
        },
        "outputId": "eb3c1d1a-1a16-4978-939e-f4eaa845f28c"
      },
      "source": [
        "#!pip install geopandas\n",
        "!pip show geopandas"
      ],
      "execution_count": 8,
      "outputs": [
        {
          "output_type": "stream",
          "text": [
            "Name: geopandas\n",
            "Version: 0.8.1\n",
            "Summary: Geographic pandas extensions\n",
            "Home-page: http://geopandas.org\n",
            "Author: GeoPandas contributors\n",
            "Author-email: kjordahl@alum.mit.edu\n",
            "License: BSD\n",
            "Location: /usr/local/lib/python3.6/dist-packages\n",
            "Requires: pandas, shapely, fiona, pyproj\n",
            "Required-by: \n"
          ],
          "name": "stdout"
        }
      ]
    },
    {
      "cell_type": "code",
      "metadata": {
        "id": "OBTzUSH2zueJ",
        "colab_type": "code",
        "colab": {}
      },
      "source": [
        "import pandas as pd\n",
        "import geopandas\n",
        "import matplotlib.pyplot as plt\n",
        "#import argparse"
      ],
      "execution_count": 38,
      "outputs": []
    },
    {
      "cell_type": "code",
      "metadata": {
        "id": "uUKNEMuo0BmH",
        "colab_type": "code",
        "colab": {}
      },
      "source": [
        "#original function plot_map from QAlpha team in the CDL-Quantum/Hackathon2020\n",
        "\n",
        "def plot_map(itinerary,cities):\n",
        "\n",
        "  #VGG note that our cities list has positive values for the Longitude\n",
        "    data_list=[[key, cities[key][0], - cities[key][1]] for key in cities.keys()]\n",
        "    df = pd.DataFrame(data_list)\n",
        "    data_list=[[city, cities[city][0], - cities[city][1]] for city in itinerary]\n",
        "    df_visit = pd.DataFrame(data_list)\n",
        "    \n",
        "    #City,Latitude,Longitude\n",
        "    df.columns=['City','Latitude','Longitude']\n",
        "    df_visit.columns = ['City','Latitude','Longitude']\n",
        "    df_start = df_visit[df_visit['City'].isin([itinerary[0]])]  \n",
        "    df_end = df_visit[df_visit['City'].isin([itinerary[-1]])] \n",
        "\n",
        "    gdf_all = geopandas.GeoDataFrame(\n",
        "        df, geometry=geopandas.points_from_xy(df.Longitude, df.Latitude))\n",
        "    gdf_visit = geopandas.GeoDataFrame(\n",
        "        df_visit, geometry=geopandas.points_from_xy(df_visit.Longitude, df_visit.Latitude))\n",
        "    gdf_start = geopandas.GeoDataFrame(\n",
        "        df_start, geometry=geopandas.points_from_xy(df_start.Longitude, df_start.Latitude))\n",
        "    gdf_end = geopandas.GeoDataFrame(\n",
        "        df_end, geometry=geopandas.points_from_xy(df_end.Longitude, df_end.Latitude))\n",
        "\n",
        "    world = geopandas.read_file(\n",
        "        geopandas.datasets.get_path('naturalearth_lowres'))\n",
        "\n",
        "    # Restrict to the USA only.\n",
        "    ax = world[world.name == 'United States of America'].plot(\n",
        "        color='white', edgecolor='black')\n",
        "\n",
        "    # plot the ``GeoDataFrame``\n",
        "    x_values=gdf_visit.values.T[2]\n",
        "    y_values=gdf_visit.values.T[1]\n",
        "    plt.plot(x_values,y_values)\n",
        "\n",
        "    gdf_all.plot(ax=ax, color='gray')\n",
        "    gdf_visit.plot(ax=ax, color='blue')\n",
        "    gdf_start.plot(ax=ax, color='green')\n",
        "    gdf_end.plot(ax=ax, color='red')\n",
        "\n",
        "    ax.set_xlim(xmin=-130, xmax=-65)\n",
        "    ax.set_ylim(ymin=20, ymax=55)\n",
        "    ax.set_yticks([])\n",
        "    ax.set_xticks([])\n",
        "    ax.set_aspect(1.2)\n",
        "\n",
        "    ax.legend(['Path','All cites', 'To Visit','Start','End'])\n",
        "\n",
        "    plt.show()"
      ],
      "execution_count": 165,
      "outputs": []
    },
    {
      "cell_type": "markdown",
      "metadata": {
        "id": "SepRptdwXVsD",
        "colab_type": "text"
      },
      "source": [
        "##Crate the travel itinerary"
      ]
    },
    {
      "cell_type": "code",
      "metadata": {
        "id": "u77zCqkHYjkL",
        "colab_type": "code",
        "colab": {
          "base_uri": "https://localhost:8080/",
          "height": 357
        },
        "outputId": "8b8f1bdc-e1a9-4043-d6c8-6936eb632ac4"
      },
      "source": [
        "cities"
      ],
      "execution_count": 152,
      "outputs": [
        {
          "output_type": "execute_result",
          "data": {
            "text/plain": [
              "{'Austin': (30.27, 97.77),\n",
              " 'Baltimore': (39.28, 76.62),\n",
              " 'Charlotte': (35.23, 80.85),\n",
              " 'Chicago': (41.88, 87.63),\n",
              " 'Columbus': (39.98, 82.98),\n",
              " 'Dallas': (32.78, 96.8),\n",
              " 'Detroit': (42.33, 83.05),\n",
              " 'Fort Worth': (32.75, 97.33),\n",
              " 'Houston': (29.77, 95.38),\n",
              " 'Indianapolis': (39.78, 86.15),\n",
              " 'Jacksonville': (30.32, 81.7),\n",
              " 'Los Angeles': (34.05, 118.25),\n",
              " 'Memphis': (35.12, 89.97),\n",
              " 'New York City': (40.72, 74.0),\n",
              " 'Philadelphia': (39.95, 75.17),\n",
              " 'Phoenix': (33.45, 112.07),\n",
              " 'San Antonio': (29.53, 98.47),\n",
              " 'San Diego': (32.78, 117.15),\n",
              " 'San Francisco': (37.78, 122.42),\n",
              " 'San Jose': (37.3, 121.87)}"
            ]
          },
          "metadata": {
            "tags": []
          },
          "execution_count": 152
        }
      ]
    },
    {
      "cell_type": "code",
      "metadata": {
        "id": "YWDz4YgLozkQ",
        "colab_type": "code",
        "colab": {
          "base_uri": "https://localhost:8080/",
          "height": 404
        },
        "outputId": "69af878b-ad8f-40f3-f866-8ac9cbe23ad2"
      },
      "source": [
        "%%time\n",
        "initial_state = ['New York City', 'Los Angeles','Dallas', 'Philadelphia', 'Houston','San Diego']\n",
        "current_location= 'San Francisco'\n",
        "\n",
        "itinerary, miles = make_itinerary(current_location,initial_state)\n",
        "plot_map(itinerary,cities)"
      ],
      "execution_count": 171,
      "outputs": [
        {
          "output_type": "stream",
          "text": [
            "\n",
            " Temperature        Energy    Accept   Improve     Elapsed   Remaining\n",
            "  3962.23298       6081.46    86.80%    36.40%     0:00:00     0:00:01"
          ],
          "name": "stderr"
        },
        {
          "output_type": "stream",
          "text": [
            "\n",
            "Adding your current location to the initial list!\n"
          ],
          "name": "stdout"
        },
        {
          "output_type": "stream",
          "text": [
            "     2.50000       5853.51    13.40%     0.00%     0:00:01     0:00:00"
          ],
          "name": "stderr"
        },
        {
          "output_type": "stream",
          "text": [
            "\n",
            "5853 mile route:\n",
            "San Francisco ➞  Los Angeles ➞  San Diego ➞  Dallas ➞  Houston ➞  Philadelphia ➞  New York City\n"
          ],
          "name": "stdout"
        },
        {
          "output_type": "display_data",
          "data": {
            "image/png": "[encoded data removed]",
            "text/plain": [
              "<Figure size 432x288 with 1 Axes>"
            ]
          },
          "metadata": {
            "tags": []
          }
        },
        {
          "output_type": "stream",
          "text": [
            "CPU times: user 1.31 s, sys: 126 ms, total: 1.43 s\n",
            "Wall time: 1.38 s\n"
          ],
          "name": "stdout"
        }
      ]
    }
  ]
}